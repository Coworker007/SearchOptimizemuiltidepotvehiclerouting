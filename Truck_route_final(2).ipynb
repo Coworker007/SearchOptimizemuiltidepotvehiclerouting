{
 "cells": [
  {
   "cell_type": "code",
   "execution_count": 673,
   "metadata": {
    "id": "ZEEaaFDvV5AT"
   },
   "outputs": [],
   "source": [
    "import json\n",
    "import networkx as nx\n",
    "import pandas as pd\n",
    "from scipy.spatial.distance import pdist, squareform\n",
    "import numpy as np\n",
    "import math\n",
    "import matplotlib.pyplot as plt\n",
    "import itertools\n",
    "import copy"
   ]
  },
  {
   "cell_type": "code",
   "execution_count": 674,
   "metadata": {
    "colab": {
     "base_uri": "https://localhost:8080/",
     "height": 17
    },
    "id": "H_aS_MqTuWi9",
    "outputId": "9dea8b07-435f-4869-838c-b7d8fc35835a"
   },
   "outputs": [
    {
     "name": "stdout",
     "output_type": "stream",
     "text": [
      "Requirement already satisfied: ACO-Pants in c:\\users\\mudit\\anaconda3\\lib\\site-packages (0.5.2)\n"
     ]
    }
   ],
   "source": [
    "!pip install ACO-Pants\n",
    "import pants"
   ]
  },
  {
   "cell_type": "code",
   "execution_count": 675,
   "metadata": {
    "colab": {
     "base_uri": "https://localhost:8080/",
     "height": 417
    },
    "id": "cKNLFg0sV_-_",
    "outputId": "4576bdc8-8c16-453c-b0a5-5cef73fb841d"
   },
   "outputs": [],
   "source": [
    "locations_df = pd.read_csv('SaO_Optilandia_resub_locations.csv')\n",
    "links_df = pd.read_csv('SaO_Optilandia_resub_links.csv')"
   ]
  },
  {
   "cell_type": "code",
   "execution_count": 676,
   "metadata": {},
   "outputs": [
    {
     "data": {
      "text/html": [
       "<div>\n",
       "<style scoped>\n",
       "    .dataframe tbody tr th:only-of-type {\n",
       "        vertical-align: middle;\n",
       "    }\n",
       "\n",
       "    .dataframe tbody tr th {\n",
       "        vertical-align: top;\n",
       "    }\n",
       "\n",
       "    .dataframe thead th {\n",
       "        text-align: right;\n",
       "    }\n",
       "</style>\n",
       "<table border=\"1\" class=\"dataframe\">\n",
       "  <thead>\n",
       "    <tr style=\"text-align: right;\">\n",
       "      <th></th>\n",
       "      <th>id</th>\n",
       "      <th>x</th>\n",
       "      <th>y</th>\n",
       "      <th>is_depot</th>\n",
       "      <th>is_customer</th>\n",
       "      <th>capacity</th>\n",
       "      <th>level</th>\n",
       "    </tr>\n",
       "  </thead>\n",
       "  <tbody>\n",
       "    <tr>\n",
       "      <td>0</td>\n",
       "      <td>0</td>\n",
       "      <td>49525.5556</td>\n",
       "      <td>5940.5556</td>\n",
       "      <td>False</td>\n",
       "      <td>False</td>\n",
       "      <td>NaN</td>\n",
       "      <td>NaN</td>\n",
       "    </tr>\n",
       "    <tr>\n",
       "      <td>1</td>\n",
       "      <td>1</td>\n",
       "      <td>49738.8889</td>\n",
       "      <td>6345.0000</td>\n",
       "      <td>False</td>\n",
       "      <td>False</td>\n",
       "      <td>NaN</td>\n",
       "      <td>NaN</td>\n",
       "    </tr>\n",
       "    <tr>\n",
       "      <td>2</td>\n",
       "      <td>2</td>\n",
       "      <td>49608.3333</td>\n",
       "      <td>6405.8333</td>\n",
       "      <td>False</td>\n",
       "      <td>False</td>\n",
       "      <td>NaN</td>\n",
       "      <td>NaN</td>\n",
       "    </tr>\n",
       "    <tr>\n",
       "      <td>3</td>\n",
       "      <td>3</td>\n",
       "      <td>49796.6667</td>\n",
       "      <td>6155.5556</td>\n",
       "      <td>False</td>\n",
       "      <td>False</td>\n",
       "      <td>NaN</td>\n",
       "      <td>NaN</td>\n",
       "    </tr>\n",
       "    <tr>\n",
       "      <td>4</td>\n",
       "      <td>4</td>\n",
       "      <td>49828.6111</td>\n",
       "      <td>5764.7222</td>\n",
       "      <td>False</td>\n",
       "      <td>False</td>\n",
       "      <td>NaN</td>\n",
       "      <td>NaN</td>\n",
       "    </tr>\n",
       "  </tbody>\n",
       "</table>\n",
       "</div>"
      ],
      "text/plain": [
       "   id           x          y  is_depot  is_customer  capacity  level\n",
       "0   0  49525.5556  5940.5556     False        False       NaN    NaN\n",
       "1   1  49738.8889  6345.0000     False        False       NaN    NaN\n",
       "2   2  49608.3333  6405.8333     False        False       NaN    NaN\n",
       "3   3  49796.6667  6155.5556     False        False       NaN    NaN\n",
       "4   4  49828.6111  5764.7222     False        False       NaN    NaN"
      ]
     },
     "execution_count": 676,
     "metadata": {},
     "output_type": "execute_result"
    }
   ],
   "source": [
    "locations_df.head()"
   ]
  },
  {
   "cell_type": "code",
   "execution_count": 677,
   "metadata": {},
   "outputs": [],
   "source": [
    "edgelist = links_df\n",
    "nodelist = locations_df.copy(deep=True)"
   ]
  },
  {
   "cell_type": "code",
   "execution_count": 678,
   "metadata": {},
   "outputs": [],
   "source": [
    "#edgelist.head()\n",
    "xx = nodelist.drop(columns=['is_depot' , 'is_customer','capacity','level'])\n"
   ]
  },
  {
   "cell_type": "code",
   "execution_count": 679,
   "metadata": {},
   "outputs": [
    {
     "data": {
      "text/html": [
       "<div>\n",
       "<style scoped>\n",
       "    .dataframe tbody tr th:only-of-type {\n",
       "        vertical-align: middle;\n",
       "    }\n",
       "\n",
       "    .dataframe tbody tr th {\n",
       "        vertical-align: top;\n",
       "    }\n",
       "\n",
       "    .dataframe thead th {\n",
       "        text-align: right;\n",
       "    }\n",
       "</style>\n",
       "<table border=\"1\" class=\"dataframe\">\n",
       "  <thead>\n",
       "    <tr style=\"text-align: right;\">\n",
       "      <th></th>\n",
       "      <th>id</th>\n",
       "      <th>x</th>\n",
       "      <th>y</th>\n",
       "    </tr>\n",
       "  </thead>\n",
       "  <tbody>\n",
       "    <tr>\n",
       "      <td>0</td>\n",
       "      <td>0</td>\n",
       "      <td>49525.5556</td>\n",
       "      <td>5940.5556</td>\n",
       "    </tr>\n",
       "    <tr>\n",
       "      <td>1</td>\n",
       "      <td>1</td>\n",
       "      <td>49738.8889</td>\n",
       "      <td>6345.0000</td>\n",
       "    </tr>\n",
       "    <tr>\n",
       "      <td>2</td>\n",
       "      <td>2</td>\n",
       "      <td>49608.3333</td>\n",
       "      <td>6405.8333</td>\n",
       "    </tr>\n",
       "    <tr>\n",
       "      <td>3</td>\n",
       "      <td>3</td>\n",
       "      <td>49796.6667</td>\n",
       "      <td>6155.5556</td>\n",
       "    </tr>\n",
       "    <tr>\n",
       "      <td>4</td>\n",
       "      <td>4</td>\n",
       "      <td>49828.6111</td>\n",
       "      <td>5764.7222</td>\n",
       "    </tr>\n",
       "    <tr>\n",
       "      <td>...</td>\n",
       "      <td>...</td>\n",
       "      <td>...</td>\n",
       "      <td>...</td>\n",
       "    </tr>\n",
       "    <tr>\n",
       "      <td>629</td>\n",
       "      <td>629</td>\n",
       "      <td>49533.3333</td>\n",
       "      <td>5900.0000</td>\n",
       "    </tr>\n",
       "    <tr>\n",
       "      <td>630</td>\n",
       "      <td>630</td>\n",
       "      <td>49533.6111</td>\n",
       "      <td>6080.8333</td>\n",
       "    </tr>\n",
       "    <tr>\n",
       "      <td>631</td>\n",
       "      <td>631</td>\n",
       "      <td>49484.7222</td>\n",
       "      <td>6097.7778</td>\n",
       "    </tr>\n",
       "    <tr>\n",
       "      <td>632</td>\n",
       "      <td>632</td>\n",
       "      <td>49530.8333</td>\n",
       "      <td>6355.0000</td>\n",
       "    </tr>\n",
       "    <tr>\n",
       "      <td>633</td>\n",
       "      <td>633</td>\n",
       "      <td>49923.0556</td>\n",
       "      <td>5878.6111</td>\n",
       "    </tr>\n",
       "  </tbody>\n",
       "</table>\n",
       "<p>634 rows × 3 columns</p>\n",
       "</div>"
      ],
      "text/plain": [
       "      id           x          y\n",
       "0      0  49525.5556  5940.5556\n",
       "1      1  49738.8889  6345.0000\n",
       "2      2  49608.3333  6405.8333\n",
       "3      3  49796.6667  6155.5556\n",
       "4      4  49828.6111  5764.7222\n",
       "..   ...         ...        ...\n",
       "629  629  49533.3333  5900.0000\n",
       "630  630  49533.6111  6080.8333\n",
       "631  631  49484.7222  6097.7778\n",
       "632  632  49530.8333  6355.0000\n",
       "633  633  49923.0556  5878.6111\n",
       "\n",
       "[634 rows x 3 columns]"
      ]
     },
     "execution_count": 679,
     "metadata": {},
     "output_type": "execute_result"
    }
   ],
   "source": [
    "\n",
    "xx"
   ]
  },
  {
   "cell_type": "code",
   "execution_count": null,
   "metadata": {},
   "outputs": [],
   "source": []
  },
  {
   "cell_type": "code",
   "execution_count": 680,
   "metadata": {
    "colab": {
     "base_uri": "https://localhost:8080/",
     "height": 206
    },
    "id": "F0LlBejD0TUJ",
    "outputId": "4ac139ff-151b-43ef-df5c-28ccf13ee7ad"
   },
   "outputs": [],
   "source": [
    "locations_df.head(10)\n",
    "Ids = locations_df.id\n",
    "#print(Ids[1])\n"
   ]
  },
  {
   "cell_type": "code",
   "execution_count": 681,
   "metadata": {
    "colab": {
     "base_uri": "https://localhost:8080/",
     "height": 206
    },
    "id": "iWK9446W0Rrf",
    "outputId": "d73b8646-ec46-4871-85e1-8d74f334fafd"
   },
   "outputs": [
    {
     "data": {
      "text/html": [
       "<div>\n",
       "<style scoped>\n",
       "    .dataframe tbody tr th:only-of-type {\n",
       "        vertical-align: middle;\n",
       "    }\n",
       "\n",
       "    .dataframe tbody tr th {\n",
       "        vertical-align: top;\n",
       "    }\n",
       "\n",
       "    .dataframe thead th {\n",
       "        text-align: right;\n",
       "    }\n",
       "</style>\n",
       "<table border=\"1\" class=\"dataframe\">\n",
       "  <thead>\n",
       "    <tr style=\"text-align: right;\">\n",
       "      <th></th>\n",
       "      <th>id1</th>\n",
       "      <th>id2</th>\n",
       "    </tr>\n",
       "  </thead>\n",
       "  <tbody>\n",
       "    <tr>\n",
       "      <td>0</td>\n",
       "      <td>0</td>\n",
       "      <td>483</td>\n",
       "    </tr>\n",
       "    <tr>\n",
       "      <td>1</td>\n",
       "      <td>0</td>\n",
       "      <td>117</td>\n",
       "    </tr>\n",
       "    <tr>\n",
       "      <td>2</td>\n",
       "      <td>0</td>\n",
       "      <td>497</td>\n",
       "    </tr>\n",
       "    <tr>\n",
       "      <td>3</td>\n",
       "      <td>0</td>\n",
       "      <td>224</td>\n",
       "    </tr>\n",
       "    <tr>\n",
       "      <td>4</td>\n",
       "      <td>1</td>\n",
       "      <td>388</td>\n",
       "    </tr>\n",
       "    <tr>\n",
       "      <td>...</td>\n",
       "      <td>...</td>\n",
       "      <td>...</td>\n",
       "    </tr>\n",
       "    <tr>\n",
       "      <td>889</td>\n",
       "      <td>586</td>\n",
       "      <td>596</td>\n",
       "    </tr>\n",
       "    <tr>\n",
       "      <td>890</td>\n",
       "      <td>600</td>\n",
       "      <td>609</td>\n",
       "    </tr>\n",
       "    <tr>\n",
       "      <td>891</td>\n",
       "      <td>601</td>\n",
       "      <td>608</td>\n",
       "    </tr>\n",
       "    <tr>\n",
       "      <td>892</td>\n",
       "      <td>605</td>\n",
       "      <td>629</td>\n",
       "    </tr>\n",
       "    <tr>\n",
       "      <td>893</td>\n",
       "      <td>612</td>\n",
       "      <td>632</td>\n",
       "    </tr>\n",
       "  </tbody>\n",
       "</table>\n",
       "<p>894 rows × 2 columns</p>\n",
       "</div>"
      ],
      "text/plain": [
       "     id1  id2\n",
       "0      0  483\n",
       "1      0  117\n",
       "2      0  497\n",
       "3      0  224\n",
       "4      1  388\n",
       "..   ...  ...\n",
       "889  586  596\n",
       "890  600  609\n",
       "891  601  608\n",
       "892  605  629\n",
       "893  612  632\n",
       "\n",
       "[894 rows x 2 columns]"
      ]
     },
     "execution_count": 681,
     "metadata": {},
     "output_type": "execute_result"
    }
   ],
   "source": [
    "links_df\n"
   ]
  },
  {
   "cell_type": "code",
   "execution_count": 682,
   "metadata": {
    "colab": {
     "base_uri": "https://localhost:8080/"
    },
    "id": "Yo_LVsz00ffY",
    "outputId": "fa2b40f2-1764-4e64-ba87-914056b21925"
   },
   "outputs": [
    {
     "data": {
      "text/plain": [
       "{'522': [{'lorry_id': '522-0', 'capacity': 4, 'cpm': 1.0, 'cptm': 1.4},\n",
       "  {'lorry_id': '522-1', 'capacity': 4, 'cpm': 1.0, 'cptm': 1.4},\n",
       "  {'lorry_id': '522-2', 'capacity': 24, 'cpm': 2.2, 'cptm': 0.45}],\n",
       " '125': [{'lorry_id': '125-0', 'capacity': 4, 'cpm': 1.0, 'cptm': 1.4},\n",
       "  {'lorry_id': '125-1', 'capacity': 11, 'cpm': 1.6, 'cptm': 0.9},\n",
       "  {'lorry_id': '125-2', 'capacity': 11, 'cpm': 1.6, 'cptm': 0.9}],\n",
       " '117': [{'lorry_id': '117-0', 'capacity': 4, 'cpm': 1.0, 'cptm': 1.4},\n",
       "  {'lorry_id': '117-1', 'capacity': 11, 'cpm': 1.6, 'cptm': 0.9}],\n",
       " '372': [{'lorry_id': '372-0', 'capacity': 4, 'cpm': 1.0, 'cptm': 1.4},\n",
       "  {'lorry_id': '372-1', 'capacity': 11, 'cpm': 1.6, 'cptm': 0.9}]}"
      ]
     },
     "execution_count": 682,
     "metadata": {},
     "output_type": "execute_result"
    }
   ],
   "source": [
    "depot_lorries = json.load(open('SaO_Optilandia_resub_depot_lorries.json'))\n",
    "depot_lorries"
   ]
  },
  {
   "cell_type": "code",
   "execution_count": null,
   "metadata": {
    "id": "XJeF-_qk0toc"
   },
   "outputs": [],
   "source": []
  },
  {
   "cell_type": "code",
   "execution_count": null,
   "metadata": {
    "id": "noER8Kw_q6gy"
   },
   "outputs": [],
   "source": []
  },
  {
   "cell_type": "code",
   "execution_count": null,
   "metadata": {
    "colab": {
     "base_uri": "https://localhost:8080/"
    },
    "id": "kavcPr14rGx-",
    "outputId": "0ccef96d-ee60-4d03-824c-b5a27a9794b6"
   },
   "outputs": [],
   "source": []
  },
  {
   "cell_type": "code",
   "execution_count": null,
   "metadata": {
    "colab": {
     "base_uri": "https://localhost:8080/"
    },
    "id": "lpH1dUPUrKK7",
    "outputId": "3a910d00-b01c-46c6-999e-e27287ac2cf3"
   },
   "outputs": [],
   "source": []
  },
  {
   "cell_type": "code",
   "execution_count": null,
   "metadata": {
    "id": "wDWwFteApxLk"
   },
   "outputs": [],
   "source": []
  },
  {
   "cell_type": "code",
   "execution_count": 683,
   "metadata": {
    "id": "n_8zTzAhqP77",
    "scrolled": true
   },
   "outputs": [
    {
     "name": "stdout",
     "output_type": "stream",
     "text": [
      "[117 125 372 522]\n"
     ]
    }
   ],
   "source": [
    "depot_locations = np.where(locations_df.is_depot)[0]\n",
    "print(depot_locations)"
   ]
  },
  {
   "cell_type": "code",
   "execution_count": 684,
   "metadata": {
    "id": "5--wNlWTqkZx"
   },
   "outputs": [
    {
     "name": "stdout",
     "output_type": "stream",
     "text": [
      "[  7  10  15  20  22  25  26  37  43  64  71  72  75  77  86  87  96 126\n",
      " 129 130 140 141 144 149 151 152 155 166 170 176 178 190 193 196 198 209\n",
      " 210 215 235 243 252 253 254 263 264 266 269 276 278 279 281 282 288 297\n",
      " 302 313 316 319 321 327 332 336 338 348 356 357 367 369 381 387 390 393\n",
      " 398 401 416 418 431 454 456 461 466 468 469 470 471 476 478 485 489 490\n",
      " 492 497 503 508 513 514 515 532 534 542 548 561 562 564 566 569 572 580\n",
      " 583 586 588 595 606 609 615 616 621 626 627 630 633]\n"
     ]
    }
   ],
   "source": [
    "customer_location = np.where(locations_df.is_customer)[0]\n",
    "print(customer_location)"
   ]
  },
  {
   "cell_type": "code",
   "execution_count": 685,
   "metadata": {
    "id": "WTtLLZw-qwY9"
   },
   "outputs": [],
   "source": [
    "G = nx.Graph()\n",
    "#calculate the euclidean distance for each link and add them to a list\n",
    "id = 0\n",
    "distance = []\n",
    "for index in links_df.iloc[:,0]:\n",
    "    x = (locations_df[locations_df['id']==links_df['id2'][id]].x)[links_df['id2'][id]] - (locations_df[locations_df['id']==index].x)[index]\n",
    "    y = (locations_df[locations_df['id']==links_df['id2'][id]].y)[links_df['id2'][id]] - (locations_df[locations_df['id']==index].y)[index]\n",
    "    z = math.sqrt((x**2) + (y**2))\n",
    "    distance.append(z)\n",
    "    id = id + 1\n",
    "distance_array = np.array(distance)\n",
    "type(distance_array)\n",
    "distance_array.shape\n",
    "#print(distance_array)\n",
    "\n",
    "edges = []\n",
    "G.add_nodes_from(range(len(locations_df)))\n",
    "G.add_weighted_edges_from(edges)\n",
    "pos = {k:v.values for k,v in locations_df[['x','y']].iterrows()}\n"
   ]
  },
  {
   "cell_type": "code",
   "execution_count": 686,
   "metadata": {
    "id": "vFaAH9e7sBco"
   },
   "outputs": [],
   "source": [
    "G.add_nodes_from(range(len(locations_df)))\n",
    "G.add_weighted_edges_from(edges)\n",
    "pos = {k:v.values for k,v in locations_df[['x','y']].iterrows()}"
   ]
  },
  {
   "cell_type": "code",
   "execution_count": null,
   "metadata": {
    "id": "-3GQZz_lsLeA"
   },
   "outputs": [],
   "source": []
  },
  {
   "cell_type": "code",
   "execution_count": null,
   "metadata": {
    "id": "q5NIodfksjzc"
   },
   "outputs": [],
   "source": []
  },
  {
   "cell_type": "code",
   "execution_count": 687,
   "metadata": {
    "colab": {
     "base_uri": "https://localhost:8080/",
     "height": 52
    },
    "id": "EvukF3Kasw60",
    "outputId": "11407675-f403-4c66-a976-d4ba8d2677da"
   },
   "outputs": [
    {
     "data": {
      "text/plain": [
       "<Figure size 14400x14400 with 0 Axes>"
      ]
     },
     "execution_count": 687,
     "metadata": {},
     "output_type": "execute_result"
    },
    {
     "data": {
      "text/plain": [
       "<Figure size 14400x14400 with 0 Axes>"
      ]
     },
     "metadata": {},
     "output_type": "display_data"
    }
   ],
   "source": [
    "plt.figure(figsize=(200,200))"
   ]
  },
  {
   "cell_type": "code",
   "execution_count": 688,
   "metadata": {},
   "outputs": [
    {
     "name": "stdout",
     "output_type": "stream",
     "text": [
      "[(50053.3333, 5919.1667, 1.5, 0.3, 10, 0.45), (49903.0556, 5780.0, 1.0, 0.16, 71, 0.33999999999999997), (49628.0556, 6104.4444, 2.0, 0.03, 86, 0.97), (50010.5556, 6026.6667, 1.5, 0.07, 87, 0.6799999999999999), (49794.4444, 5821.6667, 1.0, 0.06, 129, 0.44), (49778.8889, 6441.3889, 1.0, 0.06, 178, 0.44), (49513.6111, 5896.1111, 2.0, 0.0, 190, 1.0), (49859.4444, 5851.1111, 1.5, 0.25, 288, 0.5), (50013.3333, 5964.7222, 2.0, 0.12, 327, 0.88), (49900.8333, 6037.2222, 0.5, 0.06, 336, 0.19), (49599.7222, 6387.7778, 1.0, 0.17, 357, 0.32999999999999996), (49741.6667, 6427.7778, 0.5, 0.06, 387, 0.19), (49687.2222, 6143.6111, 1.0, 0.19, 390, 0.31), (49520.8333, 6186.6667, 1.0, 0.16, 401, 0.33999999999999997), (49844.4444, 6249.7222, 1.5, 0.22, 485, 0.53), (49717.7778, 6355.0, 1.0, 0.06, 562, 0.44), (49851.6667, 5793.3333, 2.0, 0.14, 566, 0.86)]\n"
     ]
    }
   ],
   "source": [
    "nodes = []\n",
    "\n",
    "#creating nodes to extract x and y components.\n",
    "\n",
    "for i in range(len(customer_location)):\n",
    "    A = locations_df.iloc[customer_location[i],0]\n",
    "    x = locations_df.iloc[customer_location[i],1]\n",
    "    y = locations_df.iloc[customer_location[i],2]\n",
    "    z = locations_df.iloc[customer_location[i],5]\n",
    "    t = locations_df.iloc[customer_location[i],6]\n",
    "    \n",
    "    if(t/z < 0.2):\n",
    "        nodes.append((x, y ,z ,t ,A , z/2-t))\n",
    "\n",
    "ara = []\n",
    "print(nodes)\n",
    "#print(nodes[0][4])\n",
    "def capacity(a ):\n",
    "    for i in range ( len ( nodes)):\n",
    "        if( nodes[i][4] == a):\n",
    "            \n",
    "            ara.append(nodes[i][5])\n",
    "        \n",
    "\n",
    "\n",
    "\n",
    "\n",
    "\n",
    "\n",
    "#euclidean costs not eculidian distance calculation b/w nodes.\n",
    "def euclidean(a, b):\n",
    "    return math.sqrt(pow(a[1] - b[1], 2) + pow(a[0] - b[0], 2))\n",
    "\n"
   ]
  },
  {
   "cell_type": "code",
   "execution_count": 689,
   "metadata": {},
   "outputs": [
    {
     "name": "stdout",
     "output_type": "stream",
     "text": [
      "[117 125 372 522]\n"
     ]
    }
   ],
   "source": [
    "#storing id's of depot\n",
    "print(depot_locations)\n",
    "d1 = locations_df.iloc[depot_locations[0],1] , locations_df.iloc[depot_locations[0],2]\n",
    "d2 = locations_df.iloc[depot_locations[1],1] , locations_df.iloc[depot_locations[1],2]\n",
    "d3 = locations_df.iloc[depot_locations[2],1] , locations_df.iloc[depot_locations[2],2]\n",
    "d4 = locations_df.iloc[depot_locations[3],1] , locations_df.iloc[depot_locations[3],2]\n",
    "nd = []\n",
    "beta= []\n",
    "final = []\n",
    "for i in range(len(nodes)):\n",
    "    c = nodes[i][0] , nodes[i][1]\n",
    "   \n",
    "    beta.append ( min (euclidean(c ,d1 ),euclidean(c ,d2 ),euclidean(c ,d3 ),euclidean(c ,d4 )))\n",
    "    nd.append((euclidean(c ,d1 ),euclidean(c ,d2 ),euclidean(c ,d3 ),euclidean(c ,d4 )  ))\n",
    "    final.append(nd[i].index(beta[i]))\n",
    "    \n",
    "\n",
    "\n"
   ]
  },
  {
   "cell_type": "code",
   "execution_count": 690,
   "metadata": {},
   "outputs": [],
   "source": [
    "arr=[]\n",
    "arr1=[]\n",
    "arr2=[]\n",
    "arr3=[]\n",
    "arr4=[]\n",
    "for i in range ( len(nodes)):\n",
    "    arr.append((final[i]+1 , nodes[i][4]))\n",
    "\n",
    "\n"
   ]
  },
  {
   "cell_type": "code",
   "execution_count": 691,
   "metadata": {},
   "outputs": [],
   "source": [
    "for i in range ( len(nodes)):\n",
    "    xf,yf = arr[i]\n",
    "    if(xf==1):\n",
    "        arr1.append(yf)\n",
    "    if(xf==2):\n",
    "        arr2.append(yf)\n",
    "    if(xf==3):\n",
    "        arr3.append(yf)\n",
    "    if(xf==4):\n",
    "        arr4.append(yf)\n",
    "        "
   ]
  },
  {
   "cell_type": "code",
   "execution_count": 692,
   "metadata": {},
   "outputs": [],
   "source": [
    "#print(arr1)\n",
    "#print(arr2)\n",
    "#print(arr3)\n",
    "#print(arr4)\n"
   ]
  },
  {
   "cell_type": "code",
   "execution_count": 693,
   "metadata": {},
   "outputs": [],
   "source": [
    "cap = []\n",
    "#cordinates extraction \n",
    "def cordinates(i):\n",
    "    xc , yc = locations_df.iloc[i,1] ,locations_df.iloc[i,2]\n",
    "    return (xc,yc)\n",
    "#id extraction\n",
    "def idx (x):\n",
    "    for i in range (len(nodes)):\n",
    "        if(nodes[i][0]==x):\n",
    "            \n",
    "            return(nodes[i][4] , -nodes[i][5])"
   ]
  },
  {
   "cell_type": "code",
   "execution_count": 694,
   "metadata": {},
   "outputs": [
    {
     "name": "stdout",
     "output_type": "stream",
     "text": [
      "[117, (401, -0.33999999999999997), (190, -1.0), (129, -0.44), 117]\n"
     ]
    }
   ],
   "source": [
    "dep1=[]\n",
    "#dep1.append(cordinates(117))\n",
    "for i in range ( len(arr1)):\n",
    "    dep1.append(cordinates(arr1[i]))\n",
    "    \n",
    "\n",
    "#Using AOC pants       \n",
    "world = pants.World(dep1, euclidean)\n",
    "solver = pants.Solver()\n",
    "solution = solver.solve(world)\n",
    "#print(solution.distance)\n",
    "depA1 = solution.tour    # Nodes visited in order\n",
    "#print(solution.path)    # Edges taken in order        \n",
    "#print(cordinates(117))\n",
    "#print(depA1)\n",
    "idx(depA1[0][0])\n",
    "cap.clear()\n",
    "cap.append(117)\n",
    "for i in range (len(depA1)):\n",
    "    \n",
    "    cap.append(idx(depA1[i][0]) )\n",
    "cap.append(117)\n",
    "\n",
    "    \n",
    "    \n",
    "print(cap)"
   ]
  },
  {
   "cell_type": "code",
   "execution_count": 695,
   "metadata": {},
   "outputs": [
    {
     "name": "stdout",
     "output_type": "stream",
     "text": [
      "986.7020446884408\n",
      "(49786.6667, 6096.1111)\n",
      "[125, (485, -0.53), (178, -0.44), (387, -0.19), (562, -0.44), (357, -0.32999999999999996), (86, -0.97), (390, -0.31), 125]\n"
     ]
    }
   ],
   "source": [
    "dep2=[]\n",
    "cap2=[]\n",
    "#dep2.append(cordinates(125))\n",
    "for i in range ( len(arr2)):\n",
    "    dep2.append(cordinates(arr2[i]))\n",
    "    \n",
    "   # print(cordinates(125),cordinates(arr2[i]))\n",
    "#AOC pants\n",
    "\n",
    "\n",
    "world = pants.World(dep2, euclidean)\n",
    "solver = pants.Solver()\n",
    "solution = solver.solve(world)\n",
    "print(solution.distance)\n",
    "depA2 = solution.tour    # Nodes visited in order\n",
    "#print(solution.path)    # Edges taken in orde        \n",
    "print(cordinates(125))\n",
    "cap2.clear()\n",
    "cap2.append(125)\n",
    "for i in range (len(depA2)):\n",
    "    cap2.append(idx(depA2[i][0]))\n",
    "cap2.append(125)\n",
    "print(cap2)"
   ]
  },
  {
   "cell_type": "code",
   "execution_count": 696,
   "metadata": {},
   "outputs": [
    {
     "name": "stdout",
     "output_type": "stream",
     "text": [
      "[(49628.0556, 6104.4444), (49778.8889, 6441.3889), (49599.7222, 6387.7778), (49741.6667, 6427.7778), (49687.2222, 6143.6111), (49844.4444, 6249.7222), (49717.7778, 6355.0)]\n"
     ]
    }
   ],
   "source": [
    "print(dep2)"
   ]
  },
  {
   "cell_type": "code",
   "execution_count": 697,
   "metadata": {},
   "outputs": [
    {
     "name": "stdout",
     "output_type": "stream",
     "text": [
      "220.45772109445645\n",
      "[372, (336, -0.19), (87, -0.6799999999999999), 372]\n"
     ]
    }
   ],
   "source": [
    "dep3=[]\n",
    "cap3=[]\n",
    "cap3.append(372)\n",
    "#dep3.append(cordinates(372))\n",
    "for i in range ( len(arr3)):\n",
    "    dep3.append(cordinates(arr3[i]))\n",
    "    \n",
    "    #print(cordinates(372),cordinates(arr2[i]))\n",
    "world = pants.World(dep3, euclidean)\n",
    "solver = pants.Solver()\n",
    "solution = solver.solve(world)\n",
    "print(solution.distance)\n",
    "depA3 = solution.tour   # Nodes visited in order\n",
    "#print(solution.path)    # Edges taken in order\n",
    "for i in range (len(depA3)):\n",
    "    cap3.append(idx(depA3[i][0]))\n",
    "cap3.append(372)\n",
    "print(cap3)"
   ]
  },
  {
   "cell_type": "code",
   "execution_count": 698,
   "metadata": {},
   "outputs": [
    {
     "name": "stdout",
     "output_type": "stream",
     "text": [
      "1037.3448245546845\n",
      "[522, (129, -0.44), (401, -0.33999999999999997), (190, -1.0), 522]\n"
     ]
    }
   ],
   "source": [
    "dep4=[]\n",
    "cap4=[]\n",
    "cap4.append(522)\n",
    "#dep4.append(cordinates(522))\n",
    "for i in range ( len(arr4)):\n",
    "    dep4.append(cordinates(arr4[i]))\n",
    "    \n",
    "    #print(cordinates(522),cordinates(arr2[i]))\n",
    "#print(dep4)\n",
    "world = pants.World(dep1, euclidean)\n",
    "solver = pants.Solver()\n",
    "solution = solver.solve(world)\n",
    "print(solution.distance)\n",
    "depA4 = solution.tour  # Nodes visited in order\n",
    "#print(solution.path)    # Edges taken in order\n",
    "for i in range (len(depA4)):\n",
    "    cap4.append(idx(depA4[i][0]))\n",
    "cap4.append(522)\n",
    "print(cap4)"
   ]
  },
  {
   "cell_type": "code",
   "execution_count": 699,
   "metadata": {},
   "outputs": [
    {
     "name": "stdout",
     "output_type": "stream",
     "text": [
      "[117, (401, -0.33999999999999997), (190, -1.0), (129, -0.44), 117] [125, (485, -0.53), (178, -0.44), (387, -0.19), (562, -0.44), (357, -0.32999999999999996), (86, -0.97), (390, -0.31), 125] [372, (336, -0.19), (87, -0.6799999999999999), 372] [522, (129, -0.44), (401, -0.33999999999999997), (190, -1.0), 522]\n"
     ]
    }
   ],
   "source": [
    "print(cap ,cap2 ,cap3 ,cap4)"
   ]
  },
  {
   "cell_type": "code",
   "execution_count": 700,
   "metadata": {},
   "outputs": [
    {
     "name": "stdout",
     "output_type": "stream",
     "text": [
      "[117, (401, -0.33999999999999997), (190, -1.0), (129, -0.44), 117]\n"
     ]
    }
   ],
   "source": [
    "links_df.head()\n",
    "Id = links_df\n",
    "#print(cap)\n",
    "\n",
    "print(cap)\n",
    "#print(cap2)"
   ]
  },
  {
   "cell_type": "code",
   "execution_count": 701,
   "metadata": {},
   "outputs": [
    {
     "name": "stdout",
     "output_type": "stream",
     "text": [
      "{'lorry_id': '117'}\n",
      "[{'lorry_id': '117'}, {'loc': [117, (401, -0.33999999999999997), (190, -1.0), (129, -0.44), 117]}]\n"
     ]
    }
   ],
   "source": [
    "data = {}\n",
    "data2= {}\n",
    "data['lorry_id' ] = (\"117\")\n",
    "print(data)\n",
    "data2['loc'] = cap\n",
    "dataf = []\n",
    "dataf.append(data)\n",
    "dataf.append(data2)\n",
    "\n",
    "print(dataf)\n",
    "\n"
   ]
  },
  {
   "cell_type": "code",
   "execution_count": 702,
   "metadata": {},
   "outputs": [
    {
     "name": "stdout",
     "output_type": "stream",
     "text": [
      "{'lorry_id': '125'}\n",
      "[{'lorry_id': '125'}, {'loc': [125, (485, -0.53), (178, -0.44), (387, -0.19), (562, -0.44), (357, -0.32999999999999996), (86, -0.97), (390, -0.31), 125]}]\n"
     ]
    }
   ],
   "source": [
    "data = {}\n",
    "data2= {}\n",
    "data['lorry_id'] = (\"125\")\n",
    "print(data)\n",
    "data2['loc'] = cap2\n",
    "dataf2 = []\n",
    "dataf2.append(data)\n",
    "dataf2.append(data2)\n",
    "\n",
    "print(dataf2)\n",
    "#print(dataf)"
   ]
  },
  {
   "cell_type": "code",
   "execution_count": 703,
   "metadata": {},
   "outputs": [
    {
     "name": "stdout",
     "output_type": "stream",
     "text": [
      "[{'lorry_id': '372'}, {'loc': [372, (336, -0.19), (87, -0.6799999999999999), 372]}]\n"
     ]
    }
   ],
   "source": [
    "data = {}\n",
    "data2= {}\n",
    "data['lorry_id'] = (\"372\")\n",
    "data2['loc'] = cap3\n",
    "dataf3=[]\n",
    "dataf3.append(data)\n",
    "dataf3.append(data2)\n",
    "\n",
    "print(dataf3)\n",
    "#print(dataf)\n"
   ]
  },
  {
   "cell_type": "code",
   "execution_count": 704,
   "metadata": {},
   "outputs": [
    {
     "name": "stdout",
     "output_type": "stream",
     "text": [
      "[522, (129, -0.44), (401, -0.33999999999999997), (190, -1.0), 522]\n"
     ]
    }
   ],
   "source": [
    "data = {}\n",
    "data2= {}\n",
    "data['lorry_id'] = (\"522\")\n",
    "print(cap4)\n",
    "data2['loc'] = cap4\n",
    "dataf4=[]\n",
    "dataf4.append(data)\n",
    "dataf4.append(data2)\n",
    "\n",
    "#print(dataf4)\n",
    "#print(dataf)\n"
   ]
  },
  {
   "cell_type": "code",
   "execution_count": 705,
   "metadata": {},
   "outputs": [
    {
     "name": "stdout",
     "output_type": "stream",
     "text": [
      "[117 125 372 522]\n"
     ]
    }
   ],
   "source": [
    "print(depot_locations)"
   ]
  },
  {
   "cell_type": "code",
   "execution_count": 706,
   "metadata": {},
   "outputs": [],
   "source": [
    "#datafinal.clear()\n",
    "\n",
    "datafinal = dataf\n",
    "datafinal.append(dataf2)\n",
    "datafinal.append(dataf3)\n",
    "datafinal.append(dataf4)\n",
    "#datafinal.append(dataf2)\n",
    "\n",
    "#print(dataf)\n",
    "\n",
    "def np_encoder(object):\n",
    "    if isinstance(object, np.generic):\n",
    "        return object.item()\n",
    "\n",
    "\n",
    "#print(json.dumps(dataf, default=np_encoder))\n",
    "with open(\"Ans.json\", \"w\") as outfile: \n",
    "    json.dump(json.dumps(dataf, default=np_encoder), outfile)\n",
    "    \n",
    "    "
   ]
  },
  {
   "cell_type": "code",
   "execution_count": 707,
   "metadata": {},
   "outputs": [
    {
     "data": {
      "text/plain": [
       "'[{\"lorry_id\": \"117\"}, {\"loc\": [117, [401, -0.33999999999999997], [190, -1.0], [129, -0.44], 117]}, [{\"lorry_id\": \"125\"}, {\"loc\": [125, [485, -0.53], [178, -0.44], [387, -0.19], [562, -0.44], [357, -0.32999999999999996], [86, -0.97], [390, -0.31], 125]}], [{\"lorry_id\": \"372\"}, {\"loc\": [372, [336, -0.19], [87, -0.6799999999999999], 372]}], [{\"lorry_id\": \"522\"}, {\"loc\": [522, [129, -0.44], [401, -0.33999999999999997], [190, -1.0], 522]}]]'"
      ]
     },
     "execution_count": 707,
     "metadata": {},
     "output_type": "execute_result"
    }
   ],
   "source": [
    "f = open(\"Ans.json\")\n",
    "data = json.load(f)\n",
    "data "
   ]
  },
  {
   "cell_type": "code",
   "execution_count": null,
   "metadata": {},
   "outputs": [],
   "source": []
  },
  {
   "cell_type": "code",
   "execution_count": 708,
   "metadata": {},
   "outputs": [],
   "source": [
    "#print(dataf)"
   ]
  },
  {
   "cell_type": "code",
   "execution_count": 709,
   "metadata": {},
   "outputs": [
    {
     "data": {
      "text/html": [
       "<div>\n",
       "<style scoped>\n",
       "    .dataframe tbody tr th:only-of-type {\n",
       "        vertical-align: middle;\n",
       "    }\n",
       "\n",
       "    .dataframe tbody tr th {\n",
       "        vertical-align: top;\n",
       "    }\n",
       "\n",
       "    .dataframe thead th {\n",
       "        text-align: right;\n",
       "    }\n",
       "</style>\n",
       "<table border=\"1\" class=\"dataframe\">\n",
       "  <thead>\n",
       "    <tr style=\"text-align: right;\">\n",
       "      <th></th>\n",
       "      <th>id1</th>\n",
       "      <th>id2</th>\n",
       "    </tr>\n",
       "  </thead>\n",
       "  <tbody>\n",
       "    <tr>\n",
       "      <td>0</td>\n",
       "      <td>0</td>\n",
       "      <td>483</td>\n",
       "    </tr>\n",
       "    <tr>\n",
       "      <td>1</td>\n",
       "      <td>0</td>\n",
       "      <td>117</td>\n",
       "    </tr>\n",
       "    <tr>\n",
       "      <td>2</td>\n",
       "      <td>0</td>\n",
       "      <td>497</td>\n",
       "    </tr>\n",
       "    <tr>\n",
       "      <td>3</td>\n",
       "      <td>0</td>\n",
       "      <td>224</td>\n",
       "    </tr>\n",
       "    <tr>\n",
       "      <td>4</td>\n",
       "      <td>1</td>\n",
       "      <td>388</td>\n",
       "    </tr>\n",
       "    <tr>\n",
       "      <td>...</td>\n",
       "      <td>...</td>\n",
       "      <td>...</td>\n",
       "    </tr>\n",
       "    <tr>\n",
       "      <td>889</td>\n",
       "      <td>586</td>\n",
       "      <td>596</td>\n",
       "    </tr>\n",
       "    <tr>\n",
       "      <td>890</td>\n",
       "      <td>600</td>\n",
       "      <td>609</td>\n",
       "    </tr>\n",
       "    <tr>\n",
       "      <td>891</td>\n",
       "      <td>601</td>\n",
       "      <td>608</td>\n",
       "    </tr>\n",
       "    <tr>\n",
       "      <td>892</td>\n",
       "      <td>605</td>\n",
       "      <td>629</td>\n",
       "    </tr>\n",
       "    <tr>\n",
       "      <td>893</td>\n",
       "      <td>612</td>\n",
       "      <td>632</td>\n",
       "    </tr>\n",
       "  </tbody>\n",
       "</table>\n",
       "<p>894 rows × 2 columns</p>\n",
       "</div>"
      ],
      "text/plain": [
       "     id1  id2\n",
       "0      0  483\n",
       "1      0  117\n",
       "2      0  497\n",
       "3      0  224\n",
       "4      1  388\n",
       "..   ...  ...\n",
       "889  586  596\n",
       "890  600  609\n",
       "891  601  608\n",
       "892  605  629\n",
       "893  612  632\n",
       "\n",
       "[894 rows x 2 columns]"
      ]
     },
     "execution_count": 709,
     "metadata": {},
     "output_type": "execute_result"
    }
   ],
   "source": [
    "links_df"
   ]
  },
  {
   "cell_type": "code",
   "execution_count": 710,
   "metadata": {},
   "outputs": [
    {
     "data": {
      "text/plain": [
       "array([117, 125, 372, 522], dtype=int64)"
      ]
     },
     "execution_count": 710,
     "metadata": {},
     "output_type": "execute_result"
    }
   ],
   "source": [
    "depot_locations"
   ]
  },
  {
   "cell_type": "code",
   "execution_count": 711,
   "metadata": {},
   "outputs": [
    {
     "data": {
      "text/plain": [
       "0        0\n",
       "1        1\n",
       "2        2\n",
       "3        3\n",
       "4        4\n",
       "      ... \n",
       "629    629\n",
       "630    630\n",
       "631    631\n",
       "632    632\n",
       "633    633\n",
       "Name: id, Length: 634, dtype: int64"
      ]
     },
     "execution_count": 711,
     "metadata": {},
     "output_type": "execute_result"
    }
   ],
   "source": [
    "Ids"
   ]
  },
  {
   "cell_type": "code",
   "execution_count": 712,
   "metadata": {},
   "outputs": [],
   "source": [
    "edge_objects = []\n",
    "for i in range ( len (links_df)):\n",
    "    edge_objects.append((links_df.id1[i],links_df.id2[i],euclidean(cordinates(links_df.id1[i]), cordinates(links_df.id2[i]))))\n",
    "#print(edge_objects)\n",
    "\n",
    "toilets = [] # Mark two nodes (5 & 9) to be toilets\n",
    "entrances = depot_locations # Mark two nodes (2 & 7) to be Entrances\n",
    "common_nodes = [1,3,4,6,8] #all the other nodes\n",
    "\n",
    "node_types = [(401, 'toilet'), (190, 'toilet'),\n",
    "              (117, 'entrance'), (125, 'entrance'),(372 ,'entrance'),(522,'entrance')]\n",
    "\n",
    "#create the networkx Graph with node types and specifying edge distances\n",
    "G = nx.Graph()\n",
    "\n",
    "for n,typ in node_types:\n",
    "    G.add_node(n, type=typ) #add each node to the graph\n",
    "\n",
    "for from_loc, to_loc, dist in edge_objects:\n",
    "    G.add_edge(from_loc, to_loc, distance=dist) #add all the edges   "
   ]
  },
  {
   "cell_type": "code",
   "execution_count": 713,
   "metadata": {},
   "outputs": [],
   "source": [
    "def subset_typeofnode(G, typestr):\n",
    "    '''return those nodes in graph G that match type = typestr.'''\n",
    "    return [name for name, d in G.nodes(data=True) \n",
    "            if 'type' in d and (d['type'] ==typestr)]\n",
    "\n",
    "#All computations happen in this function\n",
    "def find_nearest(typeofnode, fromnode):\n",
    "\n",
    "    #Calculate the length of paths from fromnode to all other nodes\n",
    "    lengths=nx.single_source_dijkstra_path_length(G, fromnode, weight='distance')\n",
    "    paths = nx.single_source_dijkstra_path(G, fromnode)\n",
    "\n",
    "    #We are only interested in a particular type of node\n",
    "    subnodes = subset_typeofnode(G, typeofnode)\n",
    "    subdict = {k: v for k, v in lengths.items() if k in subnodes}\n",
    "\n",
    "    #return the smallest of all lengths to get to typeofnode\n",
    "    if subdict: #dict of shortest paths to all entrances/toilets\n",
    "        nearest =  min(subdict, key=subdict.get) #shortest value among all the keys\n",
    "        return(nearest, subdict[nearest], paths[nearest])\n",
    "    else: #not found, no path from source to typeofnode\n",
    "        return(None, None, None)"
   ]
  },
  {
   "cell_type": "code",
   "execution_count": 714,
   "metadata": {},
   "outputs": [
    {
     "name": "stdout",
     "output_type": "stream",
     "text": [
      "401\n",
      "(117, 293.64492010724734, [401, 276, 391, 176, 291, 588, 465, 361, 79, 240, 497, 0, 117])\n",
      "190\n",
      "(117, 88.27441340470486, [190, 605, 483, 117])\n",
      "129\n",
      "(522, 364.42806054113987, [129, 312, 492, 346, 446, 475, 418, 552, 315, 286, 340, 124, 208, 204, 555, 394, 522])\n"
     ]
    }
   ],
   "source": [
    "#print(cap[0])\n",
    "mojo = cap[1][0]\n",
    "emp=[]\n",
    "for i in range(len(cap)-2):\n",
    "    #print(cap[i+1])\n",
    "    mojo = cap[i+1][0]\n",
    "    print(mojo)\n",
    "    emp.append(mojo)\n",
    "    print(find_nearest('entrance', fromnode=mojo))\n",
    "    \n",
    "#print(emp)\n",
    "#find_nearest('entrance', fromnode=117)\n"
   ]
  },
  {
   "cell_type": "code",
   "execution_count": 715,
   "metadata": {},
   "outputs": [
    {
     "name": "stdout",
     "output_type": "stream",
     "text": [
      "[{'lorry_id': '117'}, {'loc': [117, (401, -0.33999999999999997), (190, -1.0), (129, -0.44), 117]}, [{'lorry_id': '125'}, {'loc': [125, (485, -0.53), (178, -0.44), (387, -0.19), (562, -0.44), (357, -0.32999999999999996), (86, -0.97), (390, -0.31), 125]}], [{'lorry_id': '372'}, {'loc': [372, (336, -0.19), (87, -0.6799999999999999), 372]}], [{'lorry_id': '522'}, {'loc': [522, (129, -0.44), (401, -0.33999999999999997), (190, -1.0), 522]}]]\n"
     ]
    }
   ],
   "source": [
    "\n",
    "print(dataf)"
   ]
  },
  {
   "cell_type": "code",
   "execution_count": 716,
   "metadata": {},
   "outputs": [
    {
     "data": {
      "text/plain": [
       "[{'lorry_id': '117'},\n",
       " {'loc': [117, (401, -0.33999999999999997), (190, -1.0), (129, -0.44), 117]},\n",
       " [{'lorry_id': '125'},\n",
       "  {'loc': [125,\n",
       "    (485, -0.53),\n",
       "    (178, -0.44),\n",
       "    (387, -0.19),\n",
       "    (562, -0.44),\n",
       "    (357, -0.32999999999999996),\n",
       "    (86, -0.97),\n",
       "    (390, -0.31),\n",
       "    125]}],\n",
       " [{'lorry_id': '372'},\n",
       "  {'loc': [372, (336, -0.19), (87, -0.6799999999999999), 372]}],\n",
       " [{'lorry_id': '522'},\n",
       "  {'loc': [522, (129, -0.44), (401, -0.33999999999999997), (190, -1.0), 522]}]]"
      ]
     },
     "execution_count": 716,
     "metadata": {},
     "output_type": "execute_result"
    }
   ],
   "source": [
    "dataf"
   ]
  },
  {
   "cell_type": "code",
   "execution_count": 717,
   "metadata": {},
   "outputs": [
    {
     "name": "stdout",
     "output_type": "stream",
     "text": [
      "10\n"
     ]
    }
   ],
   "source": [
    "#print(nodes)\n",
    "print(nodes[0][4])"
   ]
  },
  {
   "cell_type": "code",
   "execution_count": 718,
   "metadata": {},
   "outputs": [],
   "source": [
    "hm1=[]\n",
    "hm2=[]\n",
    "hm3=[]\n",
    "hm4=[]\n",
    "\n",
    "\n",
    "for i in range (len(nodes)):\n",
    "    #print(nodes[i][4])\n",
    "    az=  find_nearest('entrance', fromnode=nodes[i][4])\n",
    "    \n",
    "    \n",
    "    hm1.append(az[0])\n",
    "    hm2.append(az[1])\n",
    "    hm3.append(az[2])\n",
    "    \n",
    "    \n",
    "\n",
    "#print(hm1)\n",
    "#print(hm2)\n",
    "#print(hm3)\n",
    "\n",
    "#dnde['loc'] = {\"lorry id = 117\"}    \n",
    "    \n",
    "    \n",
    "    \n",
    "    "
   ]
  },
  {
   "cell_type": "code",
   "execution_count": 719,
   "metadata": {},
   "outputs": [
    {
     "name": "stdout",
     "output_type": "stream",
     "text": [
      "2\n",
      "[{'lorry_id': '117'}, {'loc': [117, (401, -0.33999999999999997), (190, -1.0), (129, -0.44), 117]}, [190, 605, 483, 401, 276, 391, 176, 291, 588, 465, 361, 79, 240, 497, 0], [{'lorry_id': '125'}, {'loc': [125, (485, -0.53), (178, -0.44), (387, -0.19), (562, -0.44), (357, -0.32999999999999996), (86, -0.97), (390, -0.31), 125]}], [10, 394, 522, 71, 63, 403, 40, 67, 365, 84, 507, 568, 106, 411, 11, 545, 555, 394, 522, 288, 392, 220, 262, 315, 286, 340, 124, 208, 204, 555, 394, 522, 327, 330, 37, 506, 287, 571, 10, 394, 522, 566, 582, 245, 619, 288, 392, 220, 262, 315, 286, 340, 124, 208, 204, 555, 394, 522], [{'lorry_id': '372'}, {'loc': [372, (336, -0.19), (87, -0.6799999999999999), 372]}], [87, 169, 303, 626, 339, 320, 372, 336, 264, 339, 320, 372], [{'lorry_id': '522'}, {'loc': [522, (129, -0.44), (401, -0.33999999999999997), (190, -1.0), 522]}], [178, 499, 308, 438, 611, 1, 325, 574, 279, 349, 433, 236, 356, 493, 575, 293, 91, 163, 595, 244, 167, 125, 357, 302, 585, 255, 127, 142, 429, 625, 559, 271, 453, 101, 621, 192, 316, 469, 244, 167, 125, 387, 280, 178, 499, 308, 438, 611, 1, 325, 574, 279, 349, 433, 236, 356, 493, 575, 293, 91, 163, 595, 244, 167, 125, 390, 289, 360, 237, 163, 595, 244, 167, 125, 485, 116, 484, 447, 90, 283, 80, 514, 355, 458, 525, 307, 125, 562, 546, 550, 471, 279, 349, 433, 236, 356, 493, 575, 293, 91, 163, 595, 244, 167, 125]]\n"
     ]
    }
   ],
   "source": [
    "\n",
    "\n",
    "hm1x=[]\n",
    "hm2x=[]\n",
    "hm3x=[]\n",
    "hm4x=[]\n",
    "for i in range (len(hm1)):\n",
    "    if(hm1[i]==117):\n",
    "        hm1x.append(hm3[i])\n",
    "    if(hm1[i]==522):\n",
    "        hm2x.append(hm3[i])\n",
    "    if(hm1[i]==372):        \n",
    "        hm3x.append(hm3[i])\n",
    "    if(hm1[i]==125):        \n",
    "        hm4x.append(hm3[i])    \n",
    "        \n",
    "  \n",
    "\n",
    "#print(hm3)\n",
    "\n",
    "hm1xss = hm1x[0]+hm1x[1]\n",
    "hm1xss.remove(117)\n",
    "hm1xss.remove(117)\n",
    "#print(len(hm2x))\n",
    "hm2xss = hm2x[0]+hm2x[1]+hm2x[3]+hm2x[4]+hm2x[5]\n",
    "#print(hm1xss)\n",
    "dataf.insert(2,hm1xss)   # run once out of order\n",
    "dataf.insert(4,hm2xss)\n",
    "print(len(hm3x))\n",
    "hm3xss = hm3x[0]+hm3x[1]\n",
    "hm4xss = hm4x[1]+hm4x[2]+hm4x[3]+hm4x[4]+hm4x[5]+hm4x[6]\n",
    "dataf.insert(6,hm3xss)\n",
    "dataf.insert(8,hm4xss)\n",
    "print(dataf)"
   ]
  },
  {
   "cell_type": "code",
   "execution_count": 720,
   "metadata": {},
   "outputs": [
    {
     "name": "stdout",
     "output_type": "stream",
     "text": [
      "[{'lorry_id': '117'}, {'loc': [117, (401, -0.33999999999999997), (190, -1.0), (129, -0.44), 117]}, [190, 605, 483, 401, 276, 391, 176, 291, 588, 465, 361, 79, 240, 497, 0], [{'lorry_id': '125'}, {'loc': [125, (485, -0.53), (178, -0.44), (387, -0.19), (562, -0.44), (357, -0.32999999999999996), (86, -0.97), (390, -0.31), 125]}], [10, 394, 522, 71, 63, 403, 40, 67, 365, 84, 507, 568, 106, 411, 11, 545, 555, 394, 522, 288, 392, 220, 262, 315, 286, 340, 124, 208, 204, 555, 394, 522, 327, 330, 37, 506, 287, 571, 10, 394, 522, 566, 582, 245, 619, 288, 392, 220, 262, 315, 286, 340, 124, 208, 204, 555, 394, 522], [{'lorry_id': '372'}, {'loc': [372, (336, -0.19), (87, -0.6799999999999999), 372]}], [87, 169, 303, 626, 339, 320, 372, 336, 264, 339, 320, 372], [{'lorry_id': '522'}, {'loc': [522, (129, -0.44), (401, -0.33999999999999997), (190, -1.0), 522]}], [178, 499, 308, 438, 611, 1, 325, 574, 279, 349, 433, 236, 356, 493, 575, 293, 91, 163, 595, 244, 167, 125, 357, 302, 585, 255, 127, 142, 429, 625, 559, 271, 453, 101, 621, 192, 316, 469, 244, 167, 125, 387, 280, 178, 499, 308, 438, 611, 1, 325, 574, 279, 349, 433, 236, 356, 493, 575, 293, 91, 163, 595, 244, 167, 125, 390, 289, 360, 237, 163, 595, 244, 167, 125, 485, 116, 484, 447, 90, 283, 80, 514, 355, 458, 525, 307, 125, 562, 546, 550, 471, 279, 349, 433, 236, 356, 493, 575, 293, 91, 163, 595, 244, 167, 125]]\n"
     ]
    }
   ],
   "source": [
    "\n",
    "print(dataf)\n"
   ]
  },
  {
   "cell_type": "code",
   "execution_count": null,
   "metadata": {},
   "outputs": [],
   "source": []
  },
  {
   "cell_type": "code",
   "execution_count": 721,
   "metadata": {},
   "outputs": [
    {
     "name": "stdout",
     "output_type": "stream",
     "text": [
      "[{'lorry_id': '117'}, {'loc': [117, (401, -0.33999999999999997), (190, -1.0), (129, -0.44), 117]}, [190, 605, 483, 401, 276, 391, 176, 291, 588, 465, 361, 79, 240, 497, 0], [{'lorry_id': '125'}, {'loc': [125, (485, -0.53), (178, -0.44), (387, -0.19), (562, -0.44), (357, -0.32999999999999996), (86, -0.97), (390, -0.31), 125]}], [10, 394, 522, 71, 63, 403, 40, 67, 365, 84, 507, 568, 106, 411, 11, 545, 555, 394, 522, 288, 392, 220, 262, 315, 286, 340, 124, 208, 204, 555, 394, 522, 327, 330, 37, 506, 287, 571, 10, 394, 522, 566, 582, 245, 619, 288, 392, 220, 262, 315, 286, 340, 124, 208, 204, 555, 394, 522], [{'lorry_id': '372'}, {'loc': [372, (336, -0.19), (87, -0.6799999999999999), 372]}], [87, 169, 303, 626, 339, 320, 372, 336, 264, 339, 320, 372], [{'lorry_id': '522'}, {'loc': [522, (129, -0.44), (401, -0.33999999999999997), (190, -1.0), 522]}], [178, 499, 308, 438, 611, 1, 325, 574, 279, 349, 433, 236, 356, 493, 575, 293, 91, 163, 595, 244, 167, 125, 357, 302, 585, 255, 127, 142, 429, 625, 559, 271, 453, 101, 621, 192, 316, 469, 244, 167, 125, 387, 280, 178, 499, 308, 438, 611, 1, 325, 574, 279, 349, 433, 236, 356, 493, 575, 293, 91, 163, 595, 244, 167, 125, 390, 289, 360, 237, 163, 595, 244, 167, 125, 485, 116, 484, 447, 90, 283, 80, 514, 355, 458, 525, 307, 125, 562, 546, 550, 471, 279, 349, 433, 236, 356, 493, 575, 293, 91, 163, 595, 244, 167, 125]]\n"
     ]
    }
   ],
   "source": [
    "print(dataf)\n",
    "#type(dataf)\n",
    "\n",
    "\n",
    "    \n",
    "    \n",
    "    \n",
    "\n"
   ]
  },
  {
   "cell_type": "code",
   "execution_count": null,
   "metadata": {},
   "outputs": [],
   "source": []
  },
  {
   "cell_type": "code",
   "execution_count": null,
   "metadata": {},
   "outputs": [],
   "source": []
  },
  {
   "cell_type": "code",
   "execution_count": 722,
   "metadata": {},
   "outputs": [],
   "source": [
    "\n",
    "def np_encoder(object):\n",
    "    if isinstance(object, np.generic):\n",
    "        return object.item()\n",
    "\n",
    "\n",
    "#print(json.dumps(dataf, default=np_encoder))\n",
    "with open(\"final.json\", \"w\") as outfile: \n",
    "    json.dump(json.dumps(dataf, default=np_encoder), outfile)\n",
    "    \n",
    "    "
   ]
  },
  {
   "cell_type": "code",
   "execution_count": null,
   "metadata": {},
   "outputs": [],
   "source": []
  },
  {
   "cell_type": "code",
   "execution_count": null,
   "metadata": {},
   "outputs": [],
   "source": []
  },
  {
   "cell_type": "code",
   "execution_count": null,
   "metadata": {},
   "outputs": [],
   "source": []
  },
  {
   "cell_type": "code",
   "execution_count": 723,
   "metadata": {
    "colab": {
     "base_uri": "https://localhost:8080/",
     "height": 319
    },
    "id": "CtMqWPR9tHEI",
    "outputId": "66a8083a-90dd-4511-aa8f-c293e1fbd20c"
   },
   "outputs": [
    {
     "data": {
      "image/png": "[encoded data removed]",
      "text/plain": [
       "<Figure size 432x288 with 1 Axes>"
      ]
     },
     "metadata": {},
     "output_type": "display_data"
    }
   ],
   "source": [
    "nx.draw(G,with_labels=False,pos=pos,node_size=30)\n",
    "#nx.draw(G,nodelist=depot_locations,node_color='g',node_size=50,alpha=1)\n",
    "nx.draw_networkx_labels(G,pos,{i:i for i in depot_locations});\n",
    "#nx.draw_networkx_nodes(G,pos,nodelist=customer_location,node_color='r',node_size=100,alpha=1);\n",
    "\n"
   ]
  },
  {
   "cell_type": "code",
   "execution_count": null,
   "metadata": {
    "id": "_Z8I9csWxJLB"
   },
   "outputs": [],
   "source": []
  },
  {
   "cell_type": "code",
   "execution_count": null,
   "metadata": {
    "colab": {
     "base_uri": "https://localhost:8080/"
    },
    "id": "VaAd9MeD4_IH",
    "outputId": "58fa74ff-dcd2-49c6-b8d4-96a4e6dcf5b3"
   },
   "outputs": [],
   "source": []
  },
  {
   "cell_type": "code",
   "execution_count": null,
   "metadata": {
    "colab": {
     "base_uri": "https://localhost:8080/"
    },
    "id": "CCl4P3o61vcZ",
    "outputId": "7de32d55-20de-4728-d88f-91c0b462e5fb"
   },
   "outputs": [],
   "source": []
  },
  {
   "cell_type": "code",
   "execution_count": null,
   "metadata": {
    "id": "n1LtF7b_0D9y"
   },
   "outputs": [],
   "source": []
  },
  {
   "cell_type": "code",
   "execution_count": null,
   "metadata": {
    "id": "NKOFoDNM38py"
   },
   "outputs": [],
   "source": []
  },
  {
   "cell_type": "code",
   "execution_count": null,
   "metadata": {
    "colab": {
     "base_uri": "https://localhost:8080/"
    },
    "id": "4k9eLaWL66gA",
    "outputId": "cdfafe7c-d359-4f0a-a719-21d84e46f544"
   },
   "outputs": [],
   "source": []
  },
  {
   "cell_type": "code",
   "execution_count": null,
   "metadata": {
    "colab": {
     "base_uri": "https://localhost:8080/"
    },
    "id": "2s73KnC17UPr",
    "outputId": "602f6432-ec82-4686-f21e-dacc02961ebe"
   },
   "outputs": [],
   "source": []
  },
  {
   "cell_type": "code",
   "execution_count": null,
   "metadata": {
    "colab": {
     "base_uri": "https://localhost:8080/",
     "height": 358
    },
    "id": "z4iY4QDh3bqO",
    "outputId": "3c474653-1cfa-4220-85de-e52a59146e0a"
   },
   "outputs": [],
   "source": []
  },
  {
   "cell_type": "code",
   "execution_count": null,
   "metadata": {},
   "outputs": [],
   "source": []
  }
 ],
 "metadata": {
  "colab": {
   "name": "Copy of SaO.ipynb",
   "provenance": []
  },
  "kernelspec": {
   "display_name": "Python 3",
   "language": "python",
   "name": "python3"
  },
  "language_info": {
   "codemirror_mode": {
    "name": "ipython",
    "version": 3
   },
   "file_extension": ".py",
   "mimetype": "text/x-python",
   "name": "python",
   "nbconvert_exporter": "python",
   "pygments_lexer": "ipython3",
   "version": "3.7.4"
  }
 },
 "nbformat": 4,
 "nbformat_minor": 1
}
